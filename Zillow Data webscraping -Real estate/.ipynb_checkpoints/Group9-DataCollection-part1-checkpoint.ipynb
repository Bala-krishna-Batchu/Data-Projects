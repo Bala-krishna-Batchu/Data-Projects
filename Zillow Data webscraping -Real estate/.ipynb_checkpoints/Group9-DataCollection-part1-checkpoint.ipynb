{
 "cells": [
  {
   "cell_type": "markdown",
   "metadata": {},
   "source": [
    "#libraries used for the data collection"
   ]
  },
  {
   "cell_type": "code",
   "execution_count": null,
   "metadata": {},
   "outputs": [],
   "source": [
    "import os\n",
    "import requests\n",
    "from bs4 import BeautifulSoup as BS\n",
    "from urllib.request import urlopen\n",
    "import urllib.parse\n",
    "import urllib.error\n",
    "import ssl\n",
    "import sys\n",
    "from urllib.request import Request, urlopen\n",
    "import pandas as pd\n",
    "import numpy as np\n",
    "import re\n",
    "import json\n",
    "from pandas.io.json._normalize import nested_to_record\n",
    "ctx = ssl.create_default_context()\n",
    "ctx.check_hostname=False\n",
    "ctx.verify_mode=ssl.CERT_NONE"
   ]
  },
  {
   "cell_type": "markdown",
   "metadata": {},
   "source": [
    "# list of zillow pages of various bayarea locations"
   ]
  },
  {
   "cell_type": "code",
   "execution_count": null,
   "metadata": {},
   "outputs": [],
   "source": [
    "fremont_fam_1=\"https://www.zillow.com/fremont-ca/houses/1_p/\"\n",
    "fremont_fam_2=\"https://www.zillow.com/fremont-ca/houses/2_p/\"\n",
    "sc_single_family=\"https://www.zillow.com/homes/Santa-Clara,-CA_rb/\"\n",
    "jose1=\"https://www.zillow.com/homes/sanjose-ca_rb/1_p\"\n",
    "jose2=\"https://www.zillow.com/homes/sanjose-ca_rb/2_p\"\n",
    "jose3=\"https://www.zillow.com/homes/sanjose-ca_rb/3_p\"\n",
    "jose4=\"https://www.zillow.com/homes/sanjose-ca_rb/4_p\"\n",
    "jose5=\"https://www.zillow.com/homes/sanjose-ca_rb/5_p\"\n",
    "jose6=\"https://www.zillow.com/homes/sanjose-ca_rb/6_p\"\n",
    "jose7=\"https://www.zillow.com/homes/sanjose-ca_rb/7_p\"\n",
    "jose8=\"https://www.zillow.com/homes/sanjose-ca_rb/8_p\"\n",
    "sf_1=\"https://www.zillow.com/homes/San-Francisco,-CA_rb/1_p\"\n",
    "sf_2=\"https://www.zillow.com/homes/San-Francisco,-CA_rb/2_p\"\n",
    "sf_3=\"https://www.zillow.com/homes/San-Francisco,-CA_rb/3_p\"\n",
    "sf_4=\"https://www.zillow.com/homes/San-Francisco,-CA_rb/4_p\"\n",
    "sf_5=\"https://www.zillow.com/homes/San-Francisco,-CA_rb/5_p\"\n",
    "sf_6=\"https://www.zillow.com/homes/San-Francisco,-CA_rb/6_p\"\n",
    "sf_7=\"https://www.zillow.com/homes/San-Francisco,-CA_rb/7_p\"\n",
    "sf_8=\"https://www.zillow.com/homes/San-Francisco,-CA_rb/8_p\"\n",
    "sf_9=\"https://www.zillow.com/homes/San-Francisco,-CA_rb/9_p\"\n",
    "dublin=\"https://www.zillow.com/homes/Dublin,-CA_rb/\"\n",
    "pleaston=\"https://www.zillow.com/homes/Pleasanton,-CA_rb/\"\n",
    "livermore_1=\"https://www.zillow.com/livermore-ca/houses/1_p/\"\n",
    "livermore_2=\"https://www.zillow.com/livermore-ca/houses/2_p/\"\n",
    "sunny_1=\"https://www.zillow.com/homes/Sunnyvale,-CA_rb/1_p/\"\n",
    "sunny_2=\"https://www.zillow.com/homes/Sunnyvale,-CA_rb/2_p/\"\n",
    "mountainview=\"https://www.zillow.com/mountain-view-ca/houses/1_p\"\n",
    "sanroman=\"https://www.zillow.com/homes/San-Ramon,-CA_rb/1_p\"\n",
    "oak_1=\"https://www.zillow.com/homes/Oakland,-CA_rb/1_p/\"\n",
    "oak_2=\"https://www.zillow.com/homes/Oakland,-CA_rb/2_p/\"\n",
    "oak_3=\"https://www.zillow.com/homes/Oakland,-CA_rb/3_p/\"\n",
    "oak_4=\"https://www.zillow.com/homes/Oakland,-CA_rb/4_p/\"\n",
    "oak_5=\"https://www.zillow.com/homes/Oakland,-CA_rb/5_p/\"\n",
    "oak_6=\"https://www.zillow.com/homes/Oakland,-CA_rb/6_p/\"\n",
    "oak_7=\"https://www.zillow.com/homes/Oakland,-CA_rb/7_p/\"\n",
    "hayward_1=\"https://www.zillow.com/homes/Hayward,-CA_rb/\"\n",
    "hayward_2=\"https://www.zillow.com/hayward-ca/2_p\"\n",
    "hayward_3=\"https://www.zillow.com/hayward-ca/3_p\"\n",
    "\n",
    "\n",
    "urls = [fremont_fam_2, sc_single_family,\n",
    "sf_1,sf_2,sf_3,sf_4,sf_5,sf_6,sf_7,sf_8,sf_9, jose1,jose2,jose3,jose4,jose5,jose6,jose7,jose8,dublin,pleaston,livermore_1,livermore_2,sunny_1,sunny_2,mountainview,\n",
    "oak_1,oak_2,oak_3,oak_4,oak_5,oak_6,oak_7,hayward_1,hayward_2,hayward_3]\n",
    "#urls=[dublin,pleaston,livermore_1,livermore_2,sunnyvale_1,sunnyvale_2,mountainview]\n",
    "#urls=[oakland_1,oakland_2,oakland_3,oakland_4,oakland_5,oakland_6,oakland_7]\n",
    "#urls = [sj1,sj2,sj3,sj4,sj5,sj6,sj7,sj8]\n",
    "\n",
    "#urls = [\"https://www.zillow.com/homes/Hayward,-CA_rb/\" , \"https://www.zillow.com/hayward-ca/2_p\",#\"https://www.zillow.com/hayward-ca/3_p\"]\n",
    "prop = []"
   ]
  },
  {
   "cell_type": "code",
   "execution_count": null,
   "metadata": {},
   "outputs": [],
   "source": []
  },
  {
   "cell_type": "code",
   "execution_count": null,
   "metadata": {},
   "outputs": [],
   "source": [
    "fremont_fam_1,"
   ]
  },
  {
   "cell_type": "code",
   "execution_count": null,
   "metadata": {},
   "outputs": [],
   "source": [
    "\n",
    "    "
   ]
  },
  {
   "cell_type": "markdown",
   "metadata": {},
   "source": [
    "# property links\n",
    "Foe each city scrape the list of properties with a unique link and differnet attributes"
   ]
  },
  {
   "cell_type": "code",
   "execution_count": null,
   "metadata": {},
   "outputs": [],
   "source": [
    "#request and collect the response text data\n",
    "for url in urls:\n",
    "    links = []\n",
    "    req = Request(url, headers={'User-Agent': 'Mozilla/5.0 (Macintosh; Intel Mac OS X 10_11_2) AppleWebKit/601.3.9 (KHTML, like Gecko) Version/9.0.2 Safari/601.3.9 '})\n",
    "    resp = urlopen(req).read()\n",
    "    soup = BS(resp, features=\"html.parser\")\n",
    "    #print(soup)\n",
    "    pages = re.findall(r\"https:\\/\\/www\\.zillow\\.com\\/homedetails\\/\\S+\\/\\d+_zpid\\/\",str(soup))\n",
    "    #print(pages)\n",
    "    links = np.unique([link for link in pages if (link.startswith('https://www.zillow.com/homedetails/') & ('image' not in link))])\n",
    "    #print(links)\n",
    "    for l in links:\n",
    "        prop.append(l)"
   ]
  },
  {
   "cell_type": "code",
   "execution_count": null,
   "metadata": {},
   "outputs": [],
   "source": [
    "#print(prop)"
   ]
  },
  {
   "cell_type": "markdown",
   "metadata": {},
   "source": [
    "## Dropping duplicated Properties\n",
    "+ We will be using Unique function to remove any duplicate properties\n",
    "+ replace unique data to a data frame\n",
    "+ Dump the data into Excel or cvs for future Reference"
   ]
  },
  {
   "cell_type": "code",
   "execution_count": null,
   "metadata": {},
   "outputs": [],
   "source": [
    "prop = np.unique(prop)\n",
    "#print(properties)\n",
    "print(len(prop))"
   ]
  },
  {
   "cell_type": "code",
   "execution_count": null,
   "metadata": {},
   "outputs": [],
   "source": [
    "#prop = np.delete(prop, 71,axis=0)"
   ]
  },
  {
   "cell_type": "code",
   "execution_count": null,
   "metadata": {},
   "outputs": [],
   "source": [
    "listProperties = pd.DataFrame(prop)\n",
    "#listProperties.to_excel(\"zillow_prop_dump.xlsx\")\n",
    "print(listProperties)"
   ]
  },
  {
   "cell_type": "code",
   "execution_count": null,
   "metadata": {},
   "outputs": [],
   "source": [
    "import time"
   ]
  },
  {
   "cell_type": "markdown",
   "metadata": {},
   "source": [
    "# data scraping using the response tags and beautiful soup parsing\n",
    "*  each property in the list is considered to Make a request using request object\n",
    "* Beautiful Soup Package parses the JSON present in hdpApolloPreloadedData element\n",
    "* then Parse the Json using json package and extract what is exactly required\n",
    "* As Json is nested used a nested_to_record library to denormalize the chaining in the JSON and the we faltten the final outcome and append it to the Dataframe"
   ]
  },
  {
   "cell_type": "code",
   "execution_count": null,
   "metadata": {},
   "outputs": [],
   "source": [
    "\n",
    "req_data = pd.DataFrame()\n",
    "i = 0\n",
    "for pro in prop:\n",
    "    req = Request(pro, headers={'User-Agent': 'Mozilla/5.0'})\n",
    "    resp_1 = urlopen(req).read()\n",
    "    soup = BS(resp_1, features=\"html.parser\")\n",
    "    s = soup.find('script', id='hdpApolloPreloadedData', type='application/json').string\n",
    "    full_json = json.loads(s)\n",
    "    apiCache = full_json['apiCache']\n",
    "    VariantQuery = json.loads(apiCache)\n",
    "    varient_list = list(VariantQuery.values())[1]\n",
    "    pds = varient_list['property']\n",
    "    flat = nested_to_record(pds, sep='_')\n",
    "    req_data = req_data.append(flat, ignore_index=True)\n",
    "    i = i + 1\n",
    "    print(i)\n",
    "    time.sleep(0.6)"
   ]
  },
  {
   "cell_type": "markdown",
   "metadata": {},
   "source": [
    "# convert the data in to excel file\n",
    "* we can check the the length of dataframe to check if all properties where scrapped then covert to the data to excel\n"
   ]
  },
  {
   "cell_type": "code",
   "execution_count": null,
   "metadata": {},
   "outputs": [],
   "source": [
    "print(len(req_data))\n",
    "req_data.head(10)\n"
   ]
  },
  {
   "cell_type": "code",
   "execution_count": null,
   "metadata": {},
   "outputs": [],
   "source": [
    "req_data.shape\n"
   ]
  },
  {
   "cell_type": "code",
   "execution_count": null,
   "metadata": {},
   "outputs": [],
   "source": [
    "req_data.to_excel('zillow-full.xlsx')"
   ]
  },
  {
   "cell_type": "code",
   "execution_count": null,
   "metadata": {},
   "outputs": [],
   "source": []
  },
  {
   "cell_type": "markdown",
   "metadata": {},
   "source": [
    "# discarding the unwanted columns which are not useful for data analysis\n",
    "* Since the data collected is huge, and scraped from a wepage we will remove the unnecessary columns as we mostly focus on the fields like price,area,no.of bed rooms,property tax rate at the area,..... for tha analysis.\n",
    "\n",
    "* use the final data into a excel for all the analysis by using Ml models in later stages"
   ]
  },
  {
   "cell_type": "code",
   "execution_count": null,
   "metadata": {},
   "outputs": [],
   "source": [
    "pd.set_option('display.max_columns', None)"
   ]
  },
  {
   "cell_type": "code",
   "execution_count": null,
   "metadata": {},
   "outputs": [],
   "source": [
    "#['resoFacts_pricePerSquareFoot','city','address_city','resoFacts_cityRegion,county,state','address_state','address_streetAddress','bedrooms,bathrooms','resoFacts_bedrooms','resoFacts_bathrooms','price','livingArea','resoFacts_livingArea','lotAreaValue','lotSize','resoFacts_lotSize','yearBuilt','streetAddress',\n",
    "#'zipcode','zpid','address_zipcode','rentZestimate','zestimate','listPriceLow','propertyTaxRate','contactFormRenderData_data_lender_details_preapproval_info_property_value',\n",
    "#'neighborhoodRegion_name,attributionInfo_agentName',\n",
    "#'contactFormRenderData_data_agent_module_display_name','contactFormRenderData_data_agent_module_business_name',\n",
    "#'resoFacts_buildingArea,resoFacts_architecturalStyle','resoFacts_yearBuilt,resoFacts_securityFeatures',\n",
    "#'resoFacts_hasAttachedGarage',\n",
    "#'resoFacts_buyerAgencyCompensation']"
   ]
  },
  {
   "cell_type": "code",
   "execution_count": null,
   "metadata": {},
   "outputs": [],
   "source": [
    "#data_mi = req_data[[ 'stateId', 'cityId', 'streetAddress', 'city', 'county', 'state', 'zipcode', 'price', 'bedrooms', 'bathrooms','resoFacts_buyerAgencyCompensation', 'resoFacts_buyerAgencyCompensationType', \n",
    "#'resoFacts_pricePerSquareFoot','resoFacts_securityFeatures','propertyTaxRate','resoFacts_offerReviewDate']]\n",
    "data_mi=req_data[['resoFacts_pricePerSquareFoot','city','county','state','streetAddress','bedrooms','bathrooms','price','livingArea','lotSize','yearBuilt',\n",
    "'zipcode','zpid','rentZestimate','zestimate','propertyTaxRate',\n",
    "'neighborhoodRegion_name','attributionInfo_agentName',\n",
    "'contactFormRenderData_data_agent_module_business_name',\n",
    "'resoFacts_architecturalStyle','resoFacts_yearBuilt','resoFacts_securityFeatures',\n",
    "'resoFacts_hasAttachedGarage',\n",
    "'resoFacts_buyerAgencyCompensation']]"
   ]
  },
  {
   "cell_type": "code",
   "execution_count": null,
   "metadata": {},
   "outputs": [],
   "source": [
    "len(data_mi)"
   ]
  },
  {
   "cell_type": "code",
   "execution_count": null,
   "metadata": {
    "scrolled": true
   },
   "outputs": [],
   "source": [
    "data_mi"
   ]
  },
  {
   "cell_type": "code",
   "execution_count": null,
   "metadata": {},
   "outputs": [],
   "source": [
    "data_mi.to_excel('zillow-data.xlsx')"
   ]
  },
  {
   "cell_type": "code",
   "execution_count": null,
   "metadata": {},
   "outputs": [],
   "source": [
    "#data_mi.to_csv(\"zillow-data.csv\")"
   ]
  },
  {
   "cell_type": "markdown",
   "metadata": {},
   "source": [
    "# Data cleaning"
   ]
  },
  {
   "cell_type": "code",
   "execution_count": null,
   "metadata": {},
   "outputs": [],
   "source": [
    "# Create data frame from the scraped data.\n",
    "d_f=data_mi"
   ]
  },
  {
   "cell_type": "markdown",
   "metadata": {},
   "source": [
    "#Renaming the columns"
   ]
  },
  {
   "cell_type": "code",
   "execution_count": null,
   "metadata": {},
   "outputs": [],
   "source": [
    "\n",
    "d_f.rename(columns={'resoFacts_pricePerSquareFoot':'price_per_sqft', 'lotSize': 'lotSize_sqft','attributionInfo_agentName':'agentName','contactFormRenderData_data_agent_module_business_name':'agent_businessName','resoFacts_architecturalStyle':'architecture_style','resoFacts_yearBuilt':'year_built','resoFacts_securityFeatures':'security_features','resoFacts_hasAttachedGarage':'has_Garage','resoFacts_buyerAgencyCompensation':'agency_compensation%','livingArea':'livingAreaValue'}, inplace=True)\n",
    "#display data frame\n",
    "d_f"
   ]
  },
  {
   "cell_type": "markdown",
   "metadata": {},
   "source": [
    "#checking for the null values"
   ]
  },
  {
   "cell_type": "code",
   "execution_count": null,
   "metadata": {},
   "outputs": [],
   "source": [
    "d_f.isnull().sum()"
   ]
  },
  {
   "cell_type": "markdown",
   "metadata": {},
   "source": [
    "# #Displaying Counts of null values in each column\n",
    "#Null values are removed for building better model"
   ]
  },
  {
   "cell_type": "code",
   "execution_count": null,
   "metadata": {},
   "outputs": [],
   "source": [
    "#impute missing values with mean\n",
    "#Handling missing values for the columns required for analysis\n",
    "\n",
    "d_f['price_per_sqft'] = d_f['price_per_sqft'].fillna(d_f['price_per_sqft'].mean())\n",
    "d_f['bedrooms'] = d_f['bedrooms'].fillna(d_f['bedrooms'].mean())\n",
    "d_f['bathrooms'] = d_f['bathrooms'].fillna(d_f['bathrooms'].mean())\n",
    "d_f['livingAreaValue'] = d_f['livingAreaValue'].fillna(d_f['livingAreaValue'].mean())\n",
    "d_f['lotSize_sqft'] = d_f['lotSize_sqft'].fillna(d_f['lotSize_sqft'].mean())\n"
   ]
  },
  {
   "cell_type": "markdown",
   "metadata": {},
   "source": [
    "#we can plot boxplots for checking the data overview."
   ]
  },
  {
   "cell_type": "code",
   "execution_count": null,
   "metadata": {},
   "outputs": [],
   "source": [
    "#importing plotly for plots used in analysis\n",
    "#Box plots for different important columns to check outliers\n",
    "\n",
    "import plotly.express as px\n",
    "\n",
    "fig = px.box(d_f, x=d_f['price'])\n",
    "fig1 = px.box(d_f, x=d_f['zestimate'])\n",
    "fig2=px.box(d_f, x=d_f['price_per_sqft'])\n",
    "fig3=px.box(d_f, x=d_f['bedrooms'])\n",
    "fig4=px.box(d_f, x=d_f['bathrooms'])\n",
    "fig5=px.box(d_f, x=d_f['livingAreaValue'])\n",
    "fig6=px.box(d_f, x=d_f['lotSize_sqft'])\n",
    "fig7=px.box(d_f, x=d_f['propertyTaxRate'])\n",
    "\n",
    "\n",
    "fig.show()\n",
    "fig1.show()\n",
    "fig2.show()\n",
    "fig3.show()\n",
    "fig4.show()\n",
    "fig5.show()\n",
    "fig6.show()\n",
    "fig7.show()\n",
    "\n",
    "\n"
   ]
  },
  {
   "cell_type": "markdown",
   "metadata": {},
   "source": [
    "# handling Outliers"
   ]
  },
  {
   "cell_type": "code",
   "execution_count": null,
   "metadata": {},
   "outputs": [],
   "source": [
    "# outlier\n",
    "plt.style.use('fivethirtyeight')\n",
    "outlier= d_f.plot(kind='box',figsize=(20,7));\n",
    "plt.xticks(rotation=70);\n",
    "plt.title('Outlier in data');\n",
    "plt.show()"
   ]
  },
  {
   "cell_type": "code",
   "execution_count": null,
   "metadata": {},
   "outputs": [],
   "source": [
    "d_f"
   ]
  },
  {
   "cell_type": "markdown",
   "metadata": {},
   "source": [
    "# removing outliers"
   ]
  },
  {
   "cell_type": "code",
   "execution_count": null,
   "metadata": {},
   "outputs": [],
   "source": [
    "\n",
    "\n",
    "fig = px.box(d_f, x=d_f['price'])\n",
    "fig.show()\n",
    "d_f=d_f[np.abs(d_f['price'] - d_f['price'].mean()) <= (2 * d_f['price'].std())]\n"
   ]
  },
  {
   "cell_type": "code",
   "execution_count": null,
   "metadata": {},
   "outputs": [],
   "source": [
    "d_f"
   ]
  },
  {
   "cell_type": "code",
   "execution_count": null,
   "metadata": {},
   "outputs": [],
   "source": [
    "#droppping the extreme top ouliers for the price column\n",
    "\n",
    "d_f.drop(d_f.loc[d_f['price']==35000000].index, inplace=True)\n",
    "d_f.drop(d_f.loc[d_f['price']==12900000].index, inplace=True)\n",
    "d_f.drop(d_f.loc[d_f['price']==11250000].index, inplace=True)"
   ]
  },
  {
   "cell_type": "code",
   "execution_count": null,
   "metadata": {},
   "outputs": [],
   "source": [
    "d_f.isnull().sum()"
   ]
  },
  {
   "cell_type": "code",
   "execution_count": null,
   "metadata": {},
   "outputs": [],
   "source": [
    "#dropping the unwanted columns\n",
    "d_f=d_f.drop(columns=['security_features','has_Garage','zpid'])## beacuse of huge number of null values in these columns and also unnecessary columns we are dropping them"
   ]
  },
  {
   "cell_type": "code",
   "execution_count": null,
   "metadata": {},
   "outputs": [],
   "source": [
    "d_f"
   ]
  }
 ],
 "metadata": {
  "kernelspec": {
   "display_name": "Python 3 (ipykernel)",
   "language": "python",
   "name": "python3"
  },
  "language_info": {
   "codemirror_mode": {
    "name": "ipython",
    "version": 3
   },
   "file_extension": ".py",
   "mimetype": "text/x-python",
   "name": "python",
   "nbconvert_exporter": "python",
   "pygments_lexer": "ipython3",
   "version": "3.9.12"
  }
 },
 "nbformat": 4,
 "nbformat_minor": 2
}
